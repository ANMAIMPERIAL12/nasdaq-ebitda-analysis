{
 "cells": [
  {
   "cell_type": "code",
   "execution_count": null,
   "id": "4e904f6b-e578-4993-a464-fb17ca4852fb",
   "metadata": {},
   "outputs": [],
   "source": [
    "import requests\n",
    "import json\n",
    "import pandas as pd\n",
    "import matplotlib.pyplot as plt\n",
    "import seaborn as sns\n",
    "import config\n"
   ]
  },
  {
   "cell_type": "code",
   "execution_count": null,
   "id": "93f0c373-ecdc-4d4d-b8bb-ba108f52de45",
   "metadata": {},
   "outputs": [],
   "source": [
    "API_KEY = config.my_api\n",
    "print(\"api key loaded successfully\")"
   ]
  },
  {
   "cell_type": "code",
   "execution_count": null,
   "id": "4dc4365f-7711-457c-9c7d-08734cc3316d",
   "metadata": {},
   "outputs": [],
   "source": [
    "api_url = 'https://data.nasdaq.com/api/v3/datatables/MER/F1.json'\n",
    "parameters = {\n",
    "    'api_key': API_KEY,\n",
    "    'qopts.per_page': 10000\n",
    "}\n",
    "\n",
    "json_data = requests.get(api_url,params = parameters).json()"
   ]
  },
  {
   "cell_type": "code",
   "execution_count": null,
   "id": "435ce326-b6d9-4be5-b6bc-f429c0c061e8",
   "metadata": {},
   "outputs": [],
   "source": [
    "data = json_data['datatable']['data']\n",
    "columns = [col['name'] for col in json_data['datatable']['columns']]\n",
    "\n",
    "df = pd.DataFrame(data, columns=columns)\n",
    "df['reportdate'] = pd.to_datetime(df['reportdate'],errors='coerce')\n",
    "df.head()"
   ]
  },
  {
   "cell_type": "code",
   "execution_count": null,
   "id": "0fd80726-49c9-44b0-9b2d-0a1dc9f3c5c5",
   "metadata": {},
   "outputs": [],
   "source": [
    "df.info()"
   ]
  },
  {
   "cell_type": "code",
   "execution_count": null,
   "id": "010d1a16-1740-4fdb-a5b1-7c88f839b0af",
   "metadata": {},
   "outputs": [],
   "source": [
    "necessary_cols = ['reportid','reportdate','reporttype','amount','longname','country','region','indicator','statement']\n",
    "df = df[necessary_cols]\n",
    "country_mapping = {\n",
    "    \"USA\": \"United States\",\n",
    "    \"DEU\": \"Germany\",\n",
    "    \"JPN\": \"Japan\",\n",
    "    \"CYM\": \"Cayman Islands\",\n",
    "    \"BHS\": \"Bahamas\",\n",
    "    \"IRL\": \"Ireland\",\n",
    "    \"IND\": \"India\",\n",
    "    \"AUS\": \"Australia\",\n",
    "    \"CAN\": \"Canada\",\n",
    "    \"BRA\": \"Brazil\",\n",
    "    \"IDN\": \"Indonesia\",\n",
    "    \"ISR\": \"Israel\",\n",
    "    \"FIN\": \"Finland\",\n",
    "    \"CHE\": \"Switzerland\",\n",
    "    \"KOR\": \"South Korea\",\n",
    "    \"GBR\": \"United Kingdom\",\n",
    "    \"FRA\": \"France\",\n",
    "    \"CHL\": \"Chile\",\n",
    "    \"BEL\": \"Belgium\",\n",
    "    \"ITA\": \"Italy\",\n",
    "    \"HKG\": \"Hong Kong\",\n",
    "    \"DNK\": \"Denmark\",\n",
    "    \"ESP\": \"Spain\"\n",
    "}\n",
    "df['country'] = df['country'].replace(country_mapping)\n",
    "df"
   ]
  },
  {
   "cell_type": "code",
   "execution_count": null,
   "id": "adcf2deb-cd00-451d-89db-d5df36997946",
   "metadata": {},
   "outputs": [],
   "source": [
    "df.columns = ['report_id','report_date','report_type','amount','company_name','country','region','indicator','statement']\n",
    "df.head()\n"
   ]
  },
  {
   "cell_type": "code",
   "execution_count": null,
   "id": "15752e1a-0efa-4a60-aafc-5ab5adf06fb0",
   "metadata": {},
   "outputs": [],
   "source": [
    "df['country'].value_counts()"
   ]
  },
  {
   "cell_type": "code",
   "execution_count": null,
   "id": "ffab0d4f-f6a2-44db-9a6c-a4947db10900",
   "metadata": {},
   "outputs": [],
   "source": [
    "df['indicator'].value_counts()"
   ]
  },
  {
   "cell_type": "code",
   "execution_count": null,
   "id": "705bfd3e-2045-4754-971d-f7572dff3576",
   "metadata": {},
   "outputs": [],
   "source": [
    "filtered_df = df[df['indicator'] == 'EBITDA Margin'].copy()\n",
    "filtered_df.head()"
   ]
  },
  {
   "cell_type": "code",
   "execution_count": null,
   "id": "23922058-5033-4b5a-959f-86a5de7330db",
   "metadata": {},
   "outputs": [],
   "source": [
    "filtered_df.describe()"
   ]
  },
  {
   "cell_type": "code",
   "execution_count": null,
   "id": "c4681965-0e4b-42d5-bf85-c77a1d48c8af",
   "metadata": {},
   "outputs": [],
   "source": [
    "filtered_df.sort_values(by='amount')"
   ]
  },
  {
   "cell_type": "code",
   "execution_count": null,
   "id": "9f0a5def-0a8e-44e8-aac2-4e39195ea71d",
   "metadata": {},
   "outputs": [],
   "source": [
    "filtered_df = filtered_df[filtered_df['company_name'] != 'Immutep Ltd']\n",
    "filtered_df.describe()"
   ]
  },
  {
   "cell_type": "code",
   "execution_count": null,
   "id": "2e567d22-5001-4bb4-9399-aaaa50899b48",
   "metadata": {},
   "outputs": [],
   "source": [
    "plt.figure(figsize=(10,6))\n",
    "plt.hist(filtered_df['amount'],bins=30,edgecolor='black')\n",
    "plt.xlabel('EBITDA Margin (%)')\n",
    "plt.ylabel('Number of Companies')\n",
    "plt.title('Distribution of EBITDA Margin across Companies')"
   ]
  },
  {
   "cell_type": "code",
   "execution_count": null,
   "id": "ab276713-c65d-4d76-ae81-ab80af9114f0",
   "metadata": {},
   "outputs": [],
   "source": [
    "plt.figure(figsize=(10,6))\n",
    "plt.boxplot(filtered_df['amount'])\n",
    "plt.ylabel('EBITDA Margin(%)')\n",
    "plt.title('EBITDA Margin Distribution')\n",
    "plt.show()"
   ]
  },
  {
   "cell_type": "code",
   "execution_count": null,
   "id": "c61c2ee0-9987-4bf9-a727-fe74c0c6b367",
   "metadata": {},
   "outputs": [],
   "source": [
    "plt.figure(figsize=(14,6))\n",
    "sns.boxplot(data=filtered_df,x='country', y='amount')\n",
    "plt.xlabel('Country')\n",
    "plt.ylabel('EBITDA Margin(%)')\n",
    "plt.title('EBITDA Margin Distribution by Country')\n",
    "plt.xticks(rotation=45, ha='right')\n",
    "plt.tight_layout()\n",
    "plt.show()\n"
   ]
  },
  {
   "cell_type": "code",
   "execution_count": null,
   "id": "a761b22d-66d4-4f41-a7e0-c53ad15950d6",
   "metadata": {},
   "outputs": [],
   "source": [
    "time_trend = filtered_df.groupby('report_date')['amount'].mean()\n",
    "fig , ax = plt.subplots(figsize=(14,6))\n",
    "ax.plot(time_trend.index, time_trend.values,alpha=0.3,label='Original',linewidth=1)\n",
    "smoothed = time_trend.rolling(window=3).mean()\n",
    "ax.plot(smoothed.index,smoothed.values,label='3-period moving average',linewidth=2)\n",
    "\n",
    "ax.set_xlabel('Report Date')\n",
    "ax.set_ylabel('Average EBITDA Margin (%)')\n",
    "ax.set_title('EBITDA Margin Over Time (Smoothed)')\n",
    "ax.legend()\n",
    "ax.grid(True,alpha = 0.3)\n",
    "\n",
    "plt.xticks(rotation=45, ha='right')\n",
    "plt.tight_layout()\n",
    "plt.show()"
   ]
  },
  {
   "cell_type": "code",
   "execution_count": null,
   "id": "e38a9e38-6a96-45ef-ba35-31faf7ccda94",
   "metadata": {},
   "outputs": [],
   "source": []
  }
 ],
 "metadata": {
  "kernelspec": {
   "display_name": "Python 3 (ipykernel)",
   "language": "python",
   "name": "python3"
  },
  "language_info": {
   "codemirror_mode": {
    "name": "ipython",
    "version": 3
   },
   "file_extension": ".py",
   "mimetype": "text/x-python",
   "name": "python",
   "nbconvert_exporter": "python",
   "pygments_lexer": "ipython3",
   "version": "3.14.0"
  }
 },
 "nbformat": 4,
 "nbformat_minor": 5
}
